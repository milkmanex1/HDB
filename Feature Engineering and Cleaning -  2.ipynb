{
 "cells": [
  {
   "cell_type": "code",
   "execution_count": 1,
   "metadata": {},
   "outputs": [],
   "source": [
    "import numpy as np\n",
    "from numpy.random import randn\n",
    "import pandas as pd\n",
    "from matplotlib import pyplot as plt\n",
    "import seaborn as sns\n",
    "%matplotlib inline\n",
    "sns.set_theme()\n",
    "import warnings\n",
    "warnings.filterwarnings('ignore')\n",
    "pd.set_option('display.max_columns', 50)"
   ]
  },
  {
   "cell_type": "markdown",
   "metadata": {},
   "source": [
    "### Use data from year 2017 - 2019 - named df1\n",
    "From the EDA, resale prices remain relatively stable during this time period. To isolate the effect of other features on HDB price, we will study only data between this period."
   ]
  },
  {
   "cell_type": "code",
   "execution_count": 2,
   "metadata": {},
   "outputs": [],
   "source": [
    "df=pd.read_csv('HDB_prices_v2.csv')\n",
    "df.drop('Unnamed: 0', axis=1, inplace =True)"
   ]
  },
  {
   "cell_type": "code",
   "execution_count": 3,
   "metadata": {},
   "outputs": [],
   "source": [
    "df1 = df[df['year'].isin([2017,2018,2019])]"
   ]
  },
  {
   "cell_type": "markdown",
   "metadata": {},
   "source": [
    "### Feature Engineering: Distance to Common Amenities\n",
    "We create new features: distance from flat to common amenities.\n",
    "\n",
    "Amenities are:\n",
    "  1. Schools\n",
    "  2. Hawker Centers\n",
    "  3. Supermarkets\n",
    "  4. MRT stations\n",
    "  5. Central Area(Raffles Place MRT)\n",
    "\n",
    "The respective datasets were downloaded from data.gov.sg. Onemap.sg api was used to obtain their coordinates. These coordinates were fed through other functions which utilize geopy package to obtain distance between two locations. The script is called 'Get_coordinates'.\n",
    "\n",
    "The results were additional information on distance to the various amenities for each unique house address. They were are located in the file 'flat_amenities.csv'."
   ]
  },
  {
   "cell_type": "code",
   "execution_count": null,
   "metadata": {},
   "outputs": [],
   "source": []
  },
  {
   "cell_type": "markdown",
   "metadata": {},
   "source": [
    "### Merge amenities data to flat data"
   ]
  },
  {
   "cell_type": "code",
   "execution_count": 4,
   "metadata": {},
   "outputs": [],
   "source": [
    "## Read in flat amenities\n",
    "flat_amenities = pd.read_csv('data/flat_amenities.csv')\n",
    "#Combine street_name and block to make 'flat' column\n",
    "df1['flat'] = df1['block'] + ' ' + df1['street_name']\n",
    "# Merge flat_amenities based \n",
    "df1 = df1.merge(flat_amenities, on = 'flat', how ='left' )\n",
    "##Drop unrequired columns\n",
    "df1.drop(['school','hawker', 'mrt', 'date', 'year', 'block', 'street_name', 'cpi', 'lease_commence_date',\n",
    "        'resale_price'], axis = 1, inplace = True)\n",
    "##Rearrange columns \n",
    "cols_at_end = ['Price_per_SF', 'real_price']\n",
    "df1 = df1[[c for c in df1 if c not in cols_at_end] \n",
    "        + [c for c in cols_at_end if c in df1]]"
   ]
  },
  {
   "cell_type": "code",
   "execution_count": 5,
   "metadata": {},
   "outputs": [
    {
     "name": "stdout",
     "output_type": "stream",
     "text": [
      "<class 'pandas.core.frame.DataFrame'>\n",
      "Int64Index: 64256 entries, 0 to 64255\n",
      "Data columns (total 18 columns):\n",
      " #   Column               Non-Null Count  Dtype  \n",
      "---  ------               --------------  -----  \n",
      " 0   town                 64256 non-null  object \n",
      " 1   flat_type            64256 non-null  object \n",
      " 2   storey_range         64256 non-null  object \n",
      " 3   floor_area_sqm       64256 non-null  float64\n",
      " 4   flat_model           64256 non-null  object \n",
      " 5   remaining_lease      64256 non-null  int64  \n",
      " 6   flat                 64256 non-null  object \n",
      " 7   school_dist          64103 non-null  float64\n",
      " 8   num_school_2km       64103 non-null  float64\n",
      " 9   hawker_dist          64103 non-null  float64\n",
      " 10  num_hawker_2km       64103 non-null  float64\n",
      " 11  mrt_dist             64103 non-null  float64\n",
      " 12  num_mrt_2km          64103 non-null  float64\n",
      " 13  supermarket_dist     64103 non-null  float64\n",
      " 14  num_supermarket_2km  64103 non-null  float64\n",
      " 15  dist_central         64103 non-null  float64\n",
      " 16  Price_per_SF         64256 non-null  float64\n",
      " 17  real_price           64256 non-null  float64\n",
      "dtypes: float64(12), int64(1), object(5)\n",
      "memory usage: 8.1+ MB\n"
     ]
    }
   ],
   "source": [
    "df1.info()"
   ]
  },
  {
   "cell_type": "code",
   "execution_count": 7,
   "metadata": {},
   "outputs": [
    {
     "data": {
      "text/html": [
       "<div>\n",
       "<style scoped>\n",
       "    .dataframe tbody tr th:only-of-type {\n",
       "        vertical-align: middle;\n",
       "    }\n",
       "\n",
       "    .dataframe tbody tr th {\n",
       "        vertical-align: top;\n",
       "    }\n",
       "\n",
       "    .dataframe thead th {\n",
       "        text-align: right;\n",
       "    }\n",
       "</style>\n",
       "<table border=\"1\" class=\"dataframe\">\n",
       "  <thead>\n",
       "    <tr style=\"text-align: right;\">\n",
       "      <th></th>\n",
       "      <th>town</th>\n",
       "      <th>flat_type</th>\n",
       "      <th>storey_range</th>\n",
       "      <th>floor_area_sqm</th>\n",
       "      <th>flat_model</th>\n",
       "      <th>remaining_lease</th>\n",
       "      <th>flat</th>\n",
       "      <th>school_dist</th>\n",
       "      <th>num_school_2km</th>\n",
       "      <th>hawker_dist</th>\n",
       "      <th>num_hawker_2km</th>\n",
       "      <th>mrt_dist</th>\n",
       "      <th>num_mrt_2km</th>\n",
       "      <th>supermarket_dist</th>\n",
       "      <th>num_supermarket_2km</th>\n",
       "      <th>dist_central</th>\n",
       "      <th>Price_per_SF</th>\n",
       "      <th>real_price</th>\n",
       "    </tr>\n",
       "  </thead>\n",
       "  <tbody>\n",
       "    <tr>\n",
       "      <th>0</th>\n",
       "      <td>Queenstown</td>\n",
       "      <td>4 ROOM</td>\n",
       "      <td>04 TO 06</td>\n",
       "      <td>88.0</td>\n",
       "      <td>Improved</td>\n",
       "      <td>56</td>\n",
       "      <td>2 HOLLAND AVE</td>\n",
       "      <td>1.203077</td>\n",
       "      <td>6.0</td>\n",
       "      <td>0.214065</td>\n",
       "      <td>5.0</td>\n",
       "      <td>0.242371</td>\n",
       "      <td>8.0</td>\n",
       "      <td>0.300772</td>\n",
       "      <td>15.0</td>\n",
       "      <td>7.109491</td>\n",
       "      <td>6773.368339</td>\n",
       "      <td>596056.413855</td>\n",
       "    </tr>\n",
       "    <tr>\n",
       "      <th>1</th>\n",
       "      <td>Queenstown</td>\n",
       "      <td>4 ROOM</td>\n",
       "      <td>28 TO 30</td>\n",
       "      <td>92.0</td>\n",
       "      <td>Model A</td>\n",
       "      <td>95</td>\n",
       "      <td>23 GHIM MOH LINK</td>\n",
       "      <td>0.849438</td>\n",
       "      <td>4.0</td>\n",
       "      <td>0.329263</td>\n",
       "      <td>6.0</td>\n",
       "      <td>0.459740</td>\n",
       "      <td>7.0</td>\n",
       "      <td>0.054650</td>\n",
       "      <td>15.0</td>\n",
       "      <td>7.736062</td>\n",
       "      <td>7367.106798</td>\n",
       "      <td>677773.825432</td>\n",
       "    </tr>\n",
       "  </tbody>\n",
       "</table>\n",
       "</div>"
      ],
      "text/plain": [
       "         town flat_type storey_range  floor_area_sqm flat_model  \\\n",
       "0  Queenstown    4 ROOM     04 TO 06            88.0   Improved   \n",
       "1  Queenstown    4 ROOM     28 TO 30            92.0    Model A   \n",
       "\n",
       "   remaining_lease              flat  school_dist  num_school_2km  \\\n",
       "0               56     2 HOLLAND AVE     1.203077             6.0   \n",
       "1               95  23 GHIM MOH LINK     0.849438             4.0   \n",
       "\n",
       "   hawker_dist  num_hawker_2km  mrt_dist  num_mrt_2km  supermarket_dist  \\\n",
       "0     0.214065             5.0  0.242371          8.0          0.300772   \n",
       "1     0.329263             6.0  0.459740          7.0          0.054650   \n",
       "\n",
       "   num_supermarket_2km  dist_central  Price_per_SF     real_price  \n",
       "0                 15.0      7.109491   6773.368339  596056.413855  \n",
       "1                 15.0      7.736062   7367.106798  677773.825432  "
      ]
     },
     "execution_count": 7,
     "metadata": {},
     "output_type": "execute_result"
    }
   ],
   "source": [
    "df1.head(2)"
   ]
  },
  {
   "cell_type": "markdown",
   "metadata": {},
   "source": [
    "### Clean up missing values in df1"
   ]
  },
  {
   "cell_type": "code",
   "execution_count": 6,
   "metadata": {
    "scrolled": true
   },
   "outputs": [
    {
     "data": {
      "text/plain": [
       "town                     0\n",
       "flat_type                0\n",
       "storey_range             0\n",
       "floor_area_sqm           0\n",
       "flat_model               0\n",
       "remaining_lease          0\n",
       "flat                     0\n",
       "school_dist            153\n",
       "num_school_2km         153\n",
       "hawker_dist            153\n",
       "num_hawker_2km         153\n",
       "mrt_dist               153\n",
       "num_mrt_2km            153\n",
       "supermarket_dist       153\n",
       "num_supermarket_2km    153\n",
       "dist_central           153\n",
       "Price_per_SF             0\n",
       "real_price               0\n",
       "dtype: int64"
      ]
     },
     "execution_count": 6,
     "metadata": {},
     "output_type": "execute_result"
    }
   ],
   "source": [
    "df1.isnull().sum()"
   ]
  },
  {
   "cell_type": "code",
   "execution_count": 7,
   "metadata": {
    "scrolled": true
   },
   "outputs": [
    {
     "data": {
      "text/plain": [
       "Kallang/Whampoa    153\n",
       "Name: town, dtype: int64"
      ]
     },
     "execution_count": 7,
     "metadata": {},
     "output_type": "execute_result"
    }
   ],
   "source": [
    "df1[df1['school_dist'].isna()]['town'].value_counts()"
   ]
  },
  {
   "cell_type": "code",
   "execution_count": 5,
   "metadata": {},
   "outputs": [
    {
     "data": {
      "text/plain": [
       "town                   0\n",
       "flat_type              0\n",
       "storey_range           0\n",
       "floor_area_sqm         0\n",
       "flat_model             0\n",
       "remaining_lease        0\n",
       "flat                   0\n",
       "school_dist            0\n",
       "num_school_2km         0\n",
       "hawker_dist            0\n",
       "num_hawker_2km         0\n",
       "mrt_dist               0\n",
       "num_mrt_2km            0\n",
       "supermarket_dist       0\n",
       "num_supermarket_2km    0\n",
       "dist_central           0\n",
       "Price_per_SF           0\n",
       "real_price             0\n",
       "dtype: int64"
      ]
     },
     "execution_count": 5,
     "metadata": {},
     "output_type": "execute_result"
    }
   ],
   "source": [
    "temp = df1.copy()\n",
    "col = list(df1.columns[-11:])\n",
    "## fill in median value for each distance feature, based on town = Kallang/Whampoa\n",
    "for feat in col:\n",
    "    temp[feat] = temp[feat].fillna(temp.groupby('town')[feat].transform('median'))\n",
    "temp.isnull().sum()"
   ]
  },
  {
   "cell_type": "code",
   "execution_count": 6,
   "metadata": {},
   "outputs": [],
   "source": [
    "df1 = temp.copy()"
   ]
  },
  {
   "cell_type": "markdown",
   "metadata": {},
   "source": [
    "## Additional cleaning: Flat_model and Town\n",
    "From the EDA earlier, flat_model, towns have too many categories. Let's combine them to larger groups based on similar items.\n",
    "\n",
    "We will also remove those classes from flat_model and flat_type that have very few instances."
   ]
  },
  {
   "cell_type": "code",
   "execution_count": 7,
   "metadata": {},
   "outputs": [],
   "source": [
    "## Flat Types: remove 1 room and MultiGen\n",
    "df1.drop(df1[(df1.flat_type == '1 ROOM') | (df1.flat_type == 'MULTI GENERATION')].index, inplace = True)"
   ]
  },
  {
   "cell_type": "code",
   "execution_count": 11,
   "metadata": {
    "scrolled": true
   },
   "outputs": [
    {
     "data": {
      "text/plain": [
       "Model A                   20743\n",
       "Improved                  16058\n",
       "New Generation             9061\n",
       "Premium Apartment          6945\n",
       "Simplified                 2754\n",
       "Apartment                  2627\n",
       "Maisonette                 1909\n",
       "Standard                   1802\n",
       "Dbss                        936\n",
       "Model A2                    885\n",
       "Adjoined Flat               119\n",
       "Type S1                     117\n",
       "Model A-Maisonette          110\n",
       "Type S2                      63\n",
       "Terrace                      38\n",
       "Improved-Maisonette          13\n",
       "Premium Apartment Loft        7\n",
       "Premium Maisonette            7\n",
       "Name: flat_model, dtype: int64"
      ]
     },
     "execution_count": 11,
     "metadata": {},
     "output_type": "execute_result"
    }
   ],
   "source": [
    "df1['flat_model'].value_counts()"
   ]
  },
  {
   "cell_type": "code",
   "execution_count": 8,
   "metadata": {},
   "outputs": [],
   "source": [
    "## Flat Model: group them into larger classes\n",
    "replace_values = {'Model A-Maisonette':'Maisonette','Improved-Maisonette':'Maisonette', 'Premium Maisonette':'Maisonette',\n",
    "                  'Terrace':'Special', 'Adjoined Flat':'Special', 'Type S1':'Special', 'Type S2':'Special', 'Dbss':'Special', \n",
    "                  'Model A2':'Model A', \n",
    "                  'Premium Apartment Loft':'Apartment', \n",
    "                  'Improved':'Standard', 'Simplified':'Model A', '2-Room':'Standard'}\n",
    "df1 = df1.replace({'flat_model': replace_values})"
   ]
  },
  {
   "cell_type": "code",
   "execution_count": 9,
   "metadata": {},
   "outputs": [
    {
     "data": {
      "text/plain": [
       "Model A              24382\n",
       "Standard             17860\n",
       "New Generation        9061\n",
       "Premium Apartment     6945\n",
       "Apartment             2634\n",
       "Maisonette            2039\n",
       "Special               1273\n",
       "Name: flat_model, dtype: int64"
      ]
     },
     "execution_count": 9,
     "metadata": {},
     "output_type": "execute_result"
    }
   ],
   "source": [
    "df1['flat_model'].value_counts()"
   ]
  },
  {
   "cell_type": "code",
   "execution_count": 10,
   "metadata": {},
   "outputs": [],
   "source": [
    "# Group towns into regions\n",
    "df1['town'] =df1['town'].apply(lambda x: x.upper())\n",
    "d_region = {'ANG MO KIO':'North East', 'BEDOK':'East', 'BISHAN':'Central', 'BUKIT BATOK':'West', 'BUKIT MERAH':'Central',\n",
    "       'BUKIT PANJANG':'West', 'BUKIT TIMAH':'Central', 'CENTRAL AREA':'Central', 'CHOA CHU KANG':'West',\n",
    "       'CLEMENTI':'West', 'GEYLANG':'Central', 'HOUGANG':'North East', 'JURONG EAST':'West', 'JURONG WEST':'West',\n",
    "       'KALLANG/WHAMPOA':'Central', 'MARINE PARADE':'Central', 'PASIR RIS':'East', 'PUNGGOL':'North East',\n",
    "       'QUEENSTOWN':'Central', 'SEMBAWANG':'North', 'SENGKANG':'North East', 'SERANGOON':'North East', 'TAMPINES':'East',\n",
    "       'TOA PAYOH':'Central', 'WOODLANDS':'North', 'YISHUN':'North'}\n",
    "df1['region'] = df1['town'].map(d_region)"
   ]
  },
  {
   "cell_type": "code",
   "execution_count": 11,
   "metadata": {},
   "outputs": [
    {
     "data": {
      "text/html": [
       "<div>\n",
       "<style scoped>\n",
       "    .dataframe tbody tr th:only-of-type {\n",
       "        vertical-align: middle;\n",
       "    }\n",
       "\n",
       "    .dataframe tbody tr th {\n",
       "        vertical-align: top;\n",
       "    }\n",
       "\n",
       "    .dataframe thead th {\n",
       "        text-align: right;\n",
       "    }\n",
       "</style>\n",
       "<table border=\"1\" class=\"dataframe\">\n",
       "  <thead>\n",
       "    <tr style=\"text-align: right;\">\n",
       "      <th></th>\n",
       "      <th>town</th>\n",
       "      <th>flat_type</th>\n",
       "      <th>storey_range</th>\n",
       "      <th>floor_area_sqm</th>\n",
       "      <th>flat_model</th>\n",
       "      <th>remaining_lease</th>\n",
       "      <th>flat</th>\n",
       "      <th>school_dist</th>\n",
       "      <th>num_school_2km</th>\n",
       "      <th>hawker_dist</th>\n",
       "      <th>num_hawker_2km</th>\n",
       "      <th>mrt_dist</th>\n",
       "      <th>num_mrt_2km</th>\n",
       "      <th>supermarket_dist</th>\n",
       "      <th>num_supermarket_2km</th>\n",
       "      <th>dist_central</th>\n",
       "      <th>region</th>\n",
       "      <th>Price_per_SF</th>\n",
       "      <th>real_price</th>\n",
       "    </tr>\n",
       "  </thead>\n",
       "  <tbody>\n",
       "    <tr>\n",
       "      <th>0</th>\n",
       "      <td>QUEENSTOWN</td>\n",
       "      <td>4 ROOM</td>\n",
       "      <td>04 TO 06</td>\n",
       "      <td>88.0</td>\n",
       "      <td>Standard</td>\n",
       "      <td>56</td>\n",
       "      <td>2 HOLLAND AVE</td>\n",
       "      <td>1.203077</td>\n",
       "      <td>6.0</td>\n",
       "      <td>0.214065</td>\n",
       "      <td>5.0</td>\n",
       "      <td>0.242371</td>\n",
       "      <td>8.0</td>\n",
       "      <td>0.300772</td>\n",
       "      <td>15.0</td>\n",
       "      <td>7.109491</td>\n",
       "      <td>Central</td>\n",
       "      <td>6773.368339</td>\n",
       "      <td>596056.413855</td>\n",
       "    </tr>\n",
       "    <tr>\n",
       "      <th>1</th>\n",
       "      <td>QUEENSTOWN</td>\n",
       "      <td>4 ROOM</td>\n",
       "      <td>28 TO 30</td>\n",
       "      <td>92.0</td>\n",
       "      <td>Model A</td>\n",
       "      <td>95</td>\n",
       "      <td>23 GHIM MOH LINK</td>\n",
       "      <td>0.849438</td>\n",
       "      <td>4.0</td>\n",
       "      <td>0.329263</td>\n",
       "      <td>6.0</td>\n",
       "      <td>0.459740</td>\n",
       "      <td>7.0</td>\n",
       "      <td>0.054650</td>\n",
       "      <td>15.0</td>\n",
       "      <td>7.736062</td>\n",
       "      <td>Central</td>\n",
       "      <td>7367.106798</td>\n",
       "      <td>677773.825432</td>\n",
       "    </tr>\n",
       "    <tr>\n",
       "      <th>2</th>\n",
       "      <td>QUEENSTOWN</td>\n",
       "      <td>4 ROOM</td>\n",
       "      <td>04 TO 06</td>\n",
       "      <td>82.0</td>\n",
       "      <td>Standard</td>\n",
       "      <td>56</td>\n",
       "      <td>8 HOLLAND AVE</td>\n",
       "      <td>0.977393</td>\n",
       "      <td>5.0</td>\n",
       "      <td>0.519236</td>\n",
       "      <td>5.0</td>\n",
       "      <td>0.395342</td>\n",
       "      <td>9.0</td>\n",
       "      <td>0.348531</td>\n",
       "      <td>14.0</td>\n",
       "      <td>6.831752</td>\n",
       "      <td>Central</td>\n",
       "      <td>5920.701987</td>\n",
       "      <td>485497.562898</td>\n",
       "    </tr>\n",
       "    <tr>\n",
       "      <th>3</th>\n",
       "      <td>QUEENSTOWN</td>\n",
       "      <td>4 ROOM</td>\n",
       "      <td>19 TO 21</td>\n",
       "      <td>88.0</td>\n",
       "      <td>Standard</td>\n",
       "      <td>57</td>\n",
       "      <td>11 HOLLAND DR</td>\n",
       "      <td>0.198307</td>\n",
       "      <td>5.0</td>\n",
       "      <td>0.966308</td>\n",
       "      <td>3.0</td>\n",
       "      <td>0.816467</td>\n",
       "      <td>5.0</td>\n",
       "      <td>0.355063</td>\n",
       "      <td>16.0</td>\n",
       "      <td>8.503199</td>\n",
       "      <td>Central</td>\n",
       "      <td>6609.496525</td>\n",
       "      <td>581635.694165</td>\n",
       "    </tr>\n",
       "    <tr>\n",
       "      <th>4</th>\n",
       "      <td>QUEENSTOWN</td>\n",
       "      <td>4 ROOM</td>\n",
       "      <td>10 TO 12</td>\n",
       "      <td>103.0</td>\n",
       "      <td>Model A</td>\n",
       "      <td>78</td>\n",
       "      <td>130 CLARENCE LANE</td>\n",
       "      <td>0.749409</td>\n",
       "      <td>7.0</td>\n",
       "      <td>0.981904</td>\n",
       "      <td>7.0</td>\n",
       "      <td>0.413269</td>\n",
       "      <td>3.0</td>\n",
       "      <td>0.430021</td>\n",
       "      <td>20.0</td>\n",
       "      <td>4.182996</td>\n",
       "      <td>Central</td>\n",
       "      <td>7280.363339</td>\n",
       "      <td>749877.423883</td>\n",
       "    </tr>\n",
       "  </tbody>\n",
       "</table>\n",
       "</div>"
      ],
      "text/plain": [
       "         town flat_type storey_range  floor_area_sqm flat_model  \\\n",
       "0  QUEENSTOWN    4 ROOM     04 TO 06            88.0   Standard   \n",
       "1  QUEENSTOWN    4 ROOM     28 TO 30            92.0    Model A   \n",
       "2  QUEENSTOWN    4 ROOM     04 TO 06            82.0   Standard   \n",
       "3  QUEENSTOWN    4 ROOM     19 TO 21            88.0   Standard   \n",
       "4  QUEENSTOWN    4 ROOM     10 TO 12           103.0    Model A   \n",
       "\n",
       "   remaining_lease               flat  school_dist  num_school_2km  \\\n",
       "0               56      2 HOLLAND AVE     1.203077             6.0   \n",
       "1               95   23 GHIM MOH LINK     0.849438             4.0   \n",
       "2               56      8 HOLLAND AVE     0.977393             5.0   \n",
       "3               57      11 HOLLAND DR     0.198307             5.0   \n",
       "4               78  130 CLARENCE LANE     0.749409             7.0   \n",
       "\n",
       "   hawker_dist  num_hawker_2km  mrt_dist  num_mrt_2km  supermarket_dist  \\\n",
       "0     0.214065             5.0  0.242371          8.0          0.300772   \n",
       "1     0.329263             6.0  0.459740          7.0          0.054650   \n",
       "2     0.519236             5.0  0.395342          9.0          0.348531   \n",
       "3     0.966308             3.0  0.816467          5.0          0.355063   \n",
       "4     0.981904             7.0  0.413269          3.0          0.430021   \n",
       "\n",
       "   num_supermarket_2km  dist_central   region  Price_per_SF     real_price  \n",
       "0                 15.0      7.109491  Central   6773.368339  596056.413855  \n",
       "1                 15.0      7.736062  Central   7367.106798  677773.825432  \n",
       "2                 14.0      6.831752  Central   5920.701987  485497.562898  \n",
       "3                 16.0      8.503199  Central   6609.496525  581635.694165  \n",
       "4                 20.0      4.182996  Central   7280.363339  749877.423883  "
      ]
     },
     "execution_count": 11,
     "metadata": {},
     "output_type": "execute_result"
    }
   ],
   "source": [
    "##Rearrange columns \n",
    "cols_at_end = ['Price_per_SF', 'real_price']\n",
    "df1 = df1[[c for c in df1 if c not in cols_at_end] \n",
    "        + [c for c in cols_at_end if c in df1]]\n",
    "df1.head()"
   ]
  },
  {
   "cell_type": "code",
   "execution_count": 12,
   "metadata": {},
   "outputs": [],
   "source": [
    "df1.to_csv('HDB 1719 with Distance Features.csv', index = False)"
   ]
  },
  {
   "cell_type": "markdown",
   "metadata": {},
   "source": [
    "### Perform some Analysis on the new Features\n",
    "1. New Distance Features\n",
    "2. Region Feature\n",
    "3. Flat Model"
   ]
  },
  {
   "cell_type": "code",
   "execution_count": 17,
   "metadata": {
    "scrolled": true
   },
   "outputs": [
    {
     "data": {
      "text/html": [
       "<div>\n",
       "<style scoped>\n",
       "    .dataframe tbody tr th:only-of-type {\n",
       "        vertical-align: middle;\n",
       "    }\n",
       "\n",
       "    .dataframe tbody tr th {\n",
       "        vertical-align: top;\n",
       "    }\n",
       "\n",
       "    .dataframe thead th {\n",
       "        text-align: right;\n",
       "    }\n",
       "</style>\n",
       "<table border=\"1\" class=\"dataframe\">\n",
       "  <thead>\n",
       "    <tr style=\"text-align: right;\">\n",
       "      <th></th>\n",
       "      <th>town</th>\n",
       "      <th>flat_type</th>\n",
       "      <th>storey_range</th>\n",
       "      <th>floor_area_sqm</th>\n",
       "      <th>flat_model</th>\n",
       "      <th>remaining_lease</th>\n",
       "      <th>flat</th>\n",
       "      <th>school_dist</th>\n",
       "      <th>num_school_2km</th>\n",
       "      <th>hawker_dist</th>\n",
       "      <th>num_hawker_2km</th>\n",
       "      <th>mrt_dist</th>\n",
       "      <th>num_mrt_2km</th>\n",
       "      <th>supermarket_dist</th>\n",
       "      <th>num_supermarket_2km</th>\n",
       "      <th>dist_central</th>\n",
       "      <th>region</th>\n",
       "      <th>Price_per_SF</th>\n",
       "      <th>real_price</th>\n",
       "    </tr>\n",
       "  </thead>\n",
       "  <tbody>\n",
       "    <tr>\n",
       "      <th>0</th>\n",
       "      <td>QUEENSTOWN</td>\n",
       "      <td>4 ROOM</td>\n",
       "      <td>04 TO 06</td>\n",
       "      <td>88.0</td>\n",
       "      <td>Standard</td>\n",
       "      <td>56</td>\n",
       "      <td>2 HOLLAND AVE</td>\n",
       "      <td>1.203077</td>\n",
       "      <td>6.0</td>\n",
       "      <td>0.214065</td>\n",
       "      <td>5.0</td>\n",
       "      <td>0.242371</td>\n",
       "      <td>8.0</td>\n",
       "      <td>0.300772</td>\n",
       "      <td>15.0</td>\n",
       "      <td>7.109491</td>\n",
       "      <td>Central</td>\n",
       "      <td>6773.368339</td>\n",
       "      <td>596056.413855</td>\n",
       "    </tr>\n",
       "    <tr>\n",
       "      <th>1</th>\n",
       "      <td>QUEENSTOWN</td>\n",
       "      <td>4 ROOM</td>\n",
       "      <td>28 TO 30</td>\n",
       "      <td>92.0</td>\n",
       "      <td>Model A</td>\n",
       "      <td>95</td>\n",
       "      <td>23 GHIM MOH LINK</td>\n",
       "      <td>0.849438</td>\n",
       "      <td>4.0</td>\n",
       "      <td>0.329263</td>\n",
       "      <td>6.0</td>\n",
       "      <td>0.459740</td>\n",
       "      <td>7.0</td>\n",
       "      <td>0.054650</td>\n",
       "      <td>15.0</td>\n",
       "      <td>7.736062</td>\n",
       "      <td>Central</td>\n",
       "      <td>7367.106798</td>\n",
       "      <td>677773.825432</td>\n",
       "    </tr>\n",
       "    <tr>\n",
       "      <th>2</th>\n",
       "      <td>QUEENSTOWN</td>\n",
       "      <td>4 ROOM</td>\n",
       "      <td>04 TO 06</td>\n",
       "      <td>82.0</td>\n",
       "      <td>Standard</td>\n",
       "      <td>56</td>\n",
       "      <td>8 HOLLAND AVE</td>\n",
       "      <td>0.977393</td>\n",
       "      <td>5.0</td>\n",
       "      <td>0.519236</td>\n",
       "      <td>5.0</td>\n",
       "      <td>0.395342</td>\n",
       "      <td>9.0</td>\n",
       "      <td>0.348531</td>\n",
       "      <td>14.0</td>\n",
       "      <td>6.831752</td>\n",
       "      <td>Central</td>\n",
       "      <td>5920.701987</td>\n",
       "      <td>485497.562898</td>\n",
       "    </tr>\n",
       "    <tr>\n",
       "      <th>3</th>\n",
       "      <td>QUEENSTOWN</td>\n",
       "      <td>4 ROOM</td>\n",
       "      <td>19 TO 21</td>\n",
       "      <td>88.0</td>\n",
       "      <td>Standard</td>\n",
       "      <td>57</td>\n",
       "      <td>11 HOLLAND DR</td>\n",
       "      <td>0.198307</td>\n",
       "      <td>5.0</td>\n",
       "      <td>0.966308</td>\n",
       "      <td>3.0</td>\n",
       "      <td>0.816467</td>\n",
       "      <td>5.0</td>\n",
       "      <td>0.355063</td>\n",
       "      <td>16.0</td>\n",
       "      <td>8.503199</td>\n",
       "      <td>Central</td>\n",
       "      <td>6609.496525</td>\n",
       "      <td>581635.694165</td>\n",
       "    </tr>\n",
       "    <tr>\n",
       "      <th>4</th>\n",
       "      <td>QUEENSTOWN</td>\n",
       "      <td>4 ROOM</td>\n",
       "      <td>10 TO 12</td>\n",
       "      <td>103.0</td>\n",
       "      <td>Model A</td>\n",
       "      <td>78</td>\n",
       "      <td>130 CLARENCE LANE</td>\n",
       "      <td>0.749409</td>\n",
       "      <td>7.0</td>\n",
       "      <td>0.981904</td>\n",
       "      <td>7.0</td>\n",
       "      <td>0.413269</td>\n",
       "      <td>3.0</td>\n",
       "      <td>0.430021</td>\n",
       "      <td>20.0</td>\n",
       "      <td>4.182996</td>\n",
       "      <td>Central</td>\n",
       "      <td>7280.363339</td>\n",
       "      <td>749877.423883</td>\n",
       "    </tr>\n",
       "  </tbody>\n",
       "</table>\n",
       "</div>"
      ],
      "text/plain": [
       "         town flat_type storey_range  floor_area_sqm flat_model  \\\n",
       "0  QUEENSTOWN    4 ROOM     04 TO 06            88.0   Standard   \n",
       "1  QUEENSTOWN    4 ROOM     28 TO 30            92.0    Model A   \n",
       "2  QUEENSTOWN    4 ROOM     04 TO 06            82.0   Standard   \n",
       "3  QUEENSTOWN    4 ROOM     19 TO 21            88.0   Standard   \n",
       "4  QUEENSTOWN    4 ROOM     10 TO 12           103.0    Model A   \n",
       "\n",
       "   remaining_lease               flat  school_dist  num_school_2km  \\\n",
       "0               56      2 HOLLAND AVE     1.203077             6.0   \n",
       "1               95   23 GHIM MOH LINK     0.849438             4.0   \n",
       "2               56      8 HOLLAND AVE     0.977393             5.0   \n",
       "3               57      11 HOLLAND DR     0.198307             5.0   \n",
       "4               78  130 CLARENCE LANE     0.749409             7.0   \n",
       "\n",
       "   hawker_dist  num_hawker_2km  mrt_dist  num_mrt_2km  supermarket_dist  \\\n",
       "0     0.214065             5.0  0.242371          8.0          0.300772   \n",
       "1     0.329263             6.0  0.459740          7.0          0.054650   \n",
       "2     0.519236             5.0  0.395342          9.0          0.348531   \n",
       "3     0.966308             3.0  0.816467          5.0          0.355063   \n",
       "4     0.981904             7.0  0.413269          3.0          0.430021   \n",
       "\n",
       "   num_supermarket_2km  dist_central   region  Price_per_SF     real_price  \n",
       "0                 15.0      7.109491  Central   6773.368339  596056.413855  \n",
       "1                 15.0      7.736062  Central   7367.106798  677773.825432  \n",
       "2                 14.0      6.831752  Central   5920.701987  485497.562898  \n",
       "3                 16.0      8.503199  Central   6609.496525  581635.694165  \n",
       "4                 20.0      4.182996  Central   7280.363339  749877.423883  "
      ]
     },
     "execution_count": 17,
     "metadata": {},
     "output_type": "execute_result"
    }
   ],
   "source": [
    "df1.head()\n"
   ]
  },
  {
   "cell_type": "code",
   "execution_count": null,
   "metadata": {},
   "outputs": [],
   "source": []
  },
  {
   "cell_type": "code",
   "execution_count": 3,
   "metadata": {},
   "outputs": [],
   "source": [
    "df = pd.read_csv('HDB 1719 with Distance Features.csv')"
   ]
  },
  {
   "cell_type": "code",
   "execution_count": 7,
   "metadata": {},
   "outputs": [
    {
     "data": {
      "text/plain": [
       "4 ROOM       26601\n",
       "5 ROOM       15916\n",
       "3 ROOM       15589\n",
       "EXECUTIVE     5169\n",
       "2 ROOM         919\n",
       "Name: flat_type, dtype: int64"
      ]
     },
     "execution_count": 7,
     "metadata": {},
     "output_type": "execute_result"
    }
   ],
   "source": [
    "df['flat_type'].value_counts()"
   ]
  },
  {
   "cell_type": "code",
   "execution_count": null,
   "metadata": {},
   "outputs": [],
   "source": []
  },
  {
   "cell_type": "code",
   "execution_count": null,
   "metadata": {},
   "outputs": [],
   "source": []
  },
  {
   "cell_type": "code",
   "execution_count": null,
   "metadata": {},
   "outputs": [],
   "source": []
  },
  {
   "cell_type": "code",
   "execution_count": null,
   "metadata": {},
   "outputs": [],
   "source": []
  },
  {
   "cell_type": "code",
   "execution_count": null,
   "metadata": {},
   "outputs": [],
   "source": []
  },
  {
   "cell_type": "code",
   "execution_count": null,
   "metadata": {},
   "outputs": [],
   "source": []
  },
  {
   "cell_type": "code",
   "execution_count": null,
   "metadata": {},
   "outputs": [],
   "source": []
  },
  {
   "cell_type": "code",
   "execution_count": null,
   "metadata": {},
   "outputs": [],
   "source": []
  },
  {
   "cell_type": "code",
   "execution_count": null,
   "metadata": {},
   "outputs": [],
   "source": []
  },
  {
   "cell_type": "code",
   "execution_count": null,
   "metadata": {},
   "outputs": [],
   "source": []
  },
  {
   "cell_type": "code",
   "execution_count": null,
   "metadata": {},
   "outputs": [],
   "source": []
  },
  {
   "cell_type": "code",
   "execution_count": null,
   "metadata": {},
   "outputs": [],
   "source": []
  },
  {
   "cell_type": "code",
   "execution_count": null,
   "metadata": {},
   "outputs": [],
   "source": []
  },
  {
   "cell_type": "code",
   "execution_count": null,
   "metadata": {},
   "outputs": [],
   "source": []
  },
  {
   "cell_type": "code",
   "execution_count": null,
   "metadata": {},
   "outputs": [],
   "source": []
  }
 ],
 "metadata": {
  "kernelspec": {
   "display_name": "Python 3",
   "language": "python",
   "name": "python3"
  },
  "language_info": {
   "codemirror_mode": {
    "name": "ipython",
    "version": 3
   },
   "file_extension": ".py",
   "mimetype": "text/x-python",
   "name": "python",
   "nbconvert_exporter": "python",
   "pygments_lexer": "ipython3",
   "version": "3.8.3"
  }
 },
 "nbformat": 4,
 "nbformat_minor": 4
}
