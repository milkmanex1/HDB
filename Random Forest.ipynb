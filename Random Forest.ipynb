{
 "cells": [
  {
   "cell_type": "code",
   "execution_count": 1,
   "metadata": {},
   "outputs": [],
   "source": [
    "import numpy as np\n",
    "from numpy.random import randn\n",
    "import pandas as pd\n",
    "from sklearn import datasets, linear_model\n",
    "from sklearn.model_selection import train_test_split\n",
    "from matplotlib import pyplot as plt\n",
    "import seaborn as sns\n",
    "from sklearn.metrics import confusion_matrix,classification_report\n",
    "from sklearn import preprocessing\n",
    "%matplotlib inline\n",
    "sns.set_theme()\n",
    "pd.pandas.set_option('display.max_columns', None)\n"
   ]
  },
  {
   "cell_type": "code",
   "execution_count": 2,
   "metadata": {
    "scrolled": true
   },
   "outputs": [],
   "source": [
    "df = pd.read_csv('Ready for Model.csv')"
   ]
  },
  {
   "cell_type": "code",
   "execution_count": 3,
   "metadata": {},
   "outputs": [],
   "source": [
    "x = df.drop('real_price', axis=1)\n",
    "y = df[['real_price']]"
   ]
  },
  {
   "cell_type": "code",
   "execution_count": 4,
   "metadata": {},
   "outputs": [
    {
     "data": {
      "text/html": [
       "<div>\n",
       "<style scoped>\n",
       "    .dataframe tbody tr th:only-of-type {\n",
       "        vertical-align: middle;\n",
       "    }\n",
       "\n",
       "    .dataframe tbody tr th {\n",
       "        vertical-align: top;\n",
       "    }\n",
       "\n",
       "    .dataframe thead th {\n",
       "        text-align: right;\n",
       "    }\n",
       "</style>\n",
       "<table border=\"1\" class=\"dataframe\">\n",
       "  <thead>\n",
       "    <tr style=\"text-align: right;\">\n",
       "      <th></th>\n",
       "      <th>floor_area_sqm</th>\n",
       "      <th>remaining_lease</th>\n",
       "      <th>school_dist</th>\n",
       "      <th>num_school_2km</th>\n",
       "      <th>hawker_dist</th>\n",
       "      <th>num_hawker_2km</th>\n",
       "      <th>mrt_dist</th>\n",
       "      <th>num_mrt_2km</th>\n",
       "      <th>supermarket_dist</th>\n",
       "      <th>num_supermarket_2km</th>\n",
       "      <th>dist_central</th>\n",
       "      <th>flat_type</th>\n",
       "      <th>storey_range</th>\n",
       "      <th>region_Central</th>\n",
       "      <th>region_East</th>\n",
       "      <th>region_North East</th>\n",
       "      <th>region_West</th>\n",
       "      <th>model_Apartment</th>\n",
       "      <th>model_Maisonette</th>\n",
       "      <th>model_Model A</th>\n",
       "      <th>model_New Generation</th>\n",
       "      <th>model_Premium Apartment</th>\n",
       "      <th>model_Special</th>\n",
       "    </tr>\n",
       "  </thead>\n",
       "  <tbody>\n",
       "    <tr>\n",
       "      <th>0</th>\n",
       "      <td>0.547795</td>\n",
       "      <td>-0.328771</td>\n",
       "      <td>-0.742161</td>\n",
       "      <td>-0.406249</td>\n",
       "      <td>0.832325</td>\n",
       "      <td>-0.698658</td>\n",
       "      <td>1.284210</td>\n",
       "      <td>-0.804472</td>\n",
       "      <td>-0.007237</td>\n",
       "      <td>-1.440940</td>\n",
       "      <td>1.522085</td>\n",
       "      <td>2</td>\n",
       "      <td>0</td>\n",
       "      <td>0</td>\n",
       "      <td>0</td>\n",
       "      <td>0</td>\n",
       "      <td>1</td>\n",
       "      <td>0</td>\n",
       "      <td>0</td>\n",
       "      <td>1</td>\n",
       "      <td>0</td>\n",
       "      <td>0</td>\n",
       "      <td>0</td>\n",
       "    </tr>\n",
       "    <tr>\n",
       "      <th>1</th>\n",
       "      <td>0.299695</td>\n",
       "      <td>-0.408958</td>\n",
       "      <td>-0.899067</td>\n",
       "      <td>-0.406249</td>\n",
       "      <td>0.870029</td>\n",
       "      <td>-0.698658</td>\n",
       "      <td>1.445462</td>\n",
       "      <td>-0.967035</td>\n",
       "      <td>0.312519</td>\n",
       "      <td>-1.651818</td>\n",
       "      <td>1.537030</td>\n",
       "      <td>2</td>\n",
       "      <td>0</td>\n",
       "      <td>0</td>\n",
       "      <td>0</td>\n",
       "      <td>0</td>\n",
       "      <td>1</td>\n",
       "      <td>0</td>\n",
       "      <td>0</td>\n",
       "      <td>1</td>\n",
       "      <td>0</td>\n",
       "      <td>0</td>\n",
       "      <td>0</td>\n",
       "    </tr>\n",
       "    <tr>\n",
       "      <th>2</th>\n",
       "      <td>-0.403255</td>\n",
       "      <td>1.274970</td>\n",
       "      <td>0.520532</td>\n",
       "      <td>-0.580485</td>\n",
       "      <td>-1.014618</td>\n",
       "      <td>0.335072</td>\n",
       "      <td>0.342933</td>\n",
       "      <td>-0.641909</td>\n",
       "      <td>0.453359</td>\n",
       "      <td>0.246083</td>\n",
       "      <td>0.693861</td>\n",
       "      <td>2</td>\n",
       "      <td>0</td>\n",
       "      <td>0</td>\n",
       "      <td>0</td>\n",
       "      <td>0</td>\n",
       "      <td>1</td>\n",
       "      <td>0</td>\n",
       "      <td>0</td>\n",
       "      <td>1</td>\n",
       "      <td>0</td>\n",
       "      <td>0</td>\n",
       "      <td>0</td>\n",
       "    </tr>\n",
       "    <tr>\n",
       "      <th>3</th>\n",
       "      <td>0.547795</td>\n",
       "      <td>0.633473</td>\n",
       "      <td>0.177566</td>\n",
       "      <td>0.464935</td>\n",
       "      <td>-0.490539</td>\n",
       "      <td>-0.440226</td>\n",
       "      <td>0.991577</td>\n",
       "      <td>-0.641909</td>\n",
       "      <td>1.021262</td>\n",
       "      <td>-0.597428</td>\n",
       "      <td>1.128352</td>\n",
       "      <td>3</td>\n",
       "      <td>0</td>\n",
       "      <td>0</td>\n",
       "      <td>0</td>\n",
       "      <td>0</td>\n",
       "      <td>1</td>\n",
       "      <td>0</td>\n",
       "      <td>0</td>\n",
       "      <td>0</td>\n",
       "      <td>0</td>\n",
       "      <td>0</td>\n",
       "      <td>0</td>\n",
       "    </tr>\n",
       "    <tr>\n",
       "      <th>4</th>\n",
       "      <td>1.581544</td>\n",
       "      <td>-0.729707</td>\n",
       "      <td>0.859686</td>\n",
       "      <td>-0.406249</td>\n",
       "      <td>-0.726750</td>\n",
       "      <td>0.335072</td>\n",
       "      <td>0.810652</td>\n",
       "      <td>-0.804472</td>\n",
       "      <td>-0.840226</td>\n",
       "      <td>-1.230062</td>\n",
       "      <td>0.774064</td>\n",
       "      <td>3</td>\n",
       "      <td>0</td>\n",
       "      <td>0</td>\n",
       "      <td>0</td>\n",
       "      <td>0</td>\n",
       "      <td>1</td>\n",
       "      <td>0</td>\n",
       "      <td>0</td>\n",
       "      <td>1</td>\n",
       "      <td>0</td>\n",
       "      <td>0</td>\n",
       "      <td>0</td>\n",
       "    </tr>\n",
       "  </tbody>\n",
       "</table>\n",
       "</div>"
      ],
      "text/plain": [
       "   floor_area_sqm  remaining_lease  school_dist  num_school_2km  hawker_dist  \\\n",
       "0        0.547795        -0.328771    -0.742161       -0.406249     0.832325   \n",
       "1        0.299695        -0.408958    -0.899067       -0.406249     0.870029   \n",
       "2       -0.403255         1.274970     0.520532       -0.580485    -1.014618   \n",
       "3        0.547795         0.633473     0.177566        0.464935    -0.490539   \n",
       "4        1.581544        -0.729707     0.859686       -0.406249    -0.726750   \n",
       "\n",
       "   num_hawker_2km  mrt_dist  num_mrt_2km  supermarket_dist  \\\n",
       "0       -0.698658  1.284210    -0.804472         -0.007237   \n",
       "1       -0.698658  1.445462    -0.967035          0.312519   \n",
       "2        0.335072  0.342933    -0.641909          0.453359   \n",
       "3       -0.440226  0.991577    -0.641909          1.021262   \n",
       "4        0.335072  0.810652    -0.804472         -0.840226   \n",
       "\n",
       "   num_supermarket_2km  dist_central  flat_type  storey_range  region_Central  \\\n",
       "0            -1.440940      1.522085          2             0               0   \n",
       "1            -1.651818      1.537030          2             0               0   \n",
       "2             0.246083      0.693861          2             0               0   \n",
       "3            -0.597428      1.128352          3             0               0   \n",
       "4            -1.230062      0.774064          3             0               0   \n",
       "\n",
       "   region_East  region_North East  region_West  model_Apartment  \\\n",
       "0            0                  0            1                0   \n",
       "1            0                  0            1                0   \n",
       "2            0                  0            1                0   \n",
       "3            0                  0            1                0   \n",
       "4            0                  0            1                0   \n",
       "\n",
       "   model_Maisonette  model_Model A  model_New Generation  \\\n",
       "0                 0              1                     0   \n",
       "1                 0              1                     0   \n",
       "2                 0              1                     0   \n",
       "3                 0              0                     0   \n",
       "4                 0              1                     0   \n",
       "\n",
       "   model_Premium Apartment  model_Special  \n",
       "0                        0              0  \n",
       "1                        0              0  \n",
       "2                        0              0  \n",
       "3                        0              0  \n",
       "4                        0              0  "
      ]
     },
     "execution_count": 4,
     "metadata": {},
     "output_type": "execute_result"
    }
   ],
   "source": [
    "x.head()"
   ]
  },
  {
   "cell_type": "code",
   "execution_count": 5,
   "metadata": {},
   "outputs": [],
   "source": [
    "from sklearn.model_selection import train_test_split\n",
    "X_train, X_test, y_train, y_test = train_test_split(x, y, test_size=0.2,random_state=3)"
   ]
  },
  {
   "cell_type": "code",
   "execution_count": 6,
   "metadata": {},
   "outputs": [
    {
     "name": "stdout",
     "output_type": "stream",
     "text": [
      "(51355, 23) (51355, 1)\n",
      "(12839, 23) (12839, 1)\n"
     ]
    }
   ],
   "source": [
    "#double check the input data/ target variable size information. \n",
    "print (X_train.shape, y_train.shape)\n",
    "print (X_test.shape, y_test.shape)"
   ]
  },
  {
   "cell_type": "code",
   "execution_count": 7,
   "metadata": {},
   "outputs": [
    {
     "data": {
      "text/plain": [
       "RandomForestRegressor(oob_score=True)"
      ]
     },
     "execution_count": 7,
     "metadata": {},
     "output_type": "execute_result"
    }
   ],
   "source": [
    "from sklearn.ensemble import RandomForestRegressor\n",
    "rf = RandomForestRegressor(n_estimators=100, oob_score=True)\n",
    "## fit the model \n",
    "rf.fit(X_train,y_train.values.ravel())"
   ]
  },
  {
   "cell_type": "markdown",
   "metadata": {},
   "source": [
    "### Model Score"
   ]
  },
  {
   "cell_type": "code",
   "execution_count": 15,
   "metadata": {},
   "outputs": [
    {
     "name": "stdout",
     "output_type": "stream",
     "text": [
      "Out of Bag R2 score is:  0.9653458773533898\n"
     ]
    }
   ],
   "source": [
    "##Model score\n",
    "\n",
    "scoreOfModel = rf.oob_score_\n",
    "print('Out of Bag R2 score is: ', scoreOfModel)"
   ]
  },
  {
   "cell_type": "code",
   "execution_count": 16,
   "metadata": {},
   "outputs": [
    {
     "name": "stdout",
     "output_type": "stream",
     "text": [
      "Test score:  0.9662947408339121\n",
      "MSE:  0.045109175590261355\n"
     ]
    }
   ],
   "source": [
    "\n",
    "from sklearn.metrics import mean_absolute_error, r2_score\n",
    "\n",
    "pred = rf.predict(X_test)\n",
    "\n",
    "print('Test score: ', r2_score(y_test, pred))\n",
    "print('MSE: ', mean_absolute_error(y_test['real_price'], pred))"
   ]
  },
  {
   "cell_type": "code",
   "execution_count": null,
   "metadata": {},
   "outputs": [],
   "source": []
  },
  {
   "cell_type": "markdown",
   "metadata": {},
   "source": [
    "### Feature Importances"
   ]
  },
  {
   "cell_type": "code",
   "execution_count": 56,
   "metadata": {
    "scrolled": true
   },
   "outputs": [
    {
     "data": {
      "text/plain": [
       "array([5.36310320e-01, 7.17529318e-02, 7.32488317e-03, 7.90486831e-03,\n",
       "       3.01075669e-02, 5.44313182e-03, 1.97480459e-02, 5.88520641e-03,\n",
       "       6.45345519e-03, 7.08522784e-03, 1.02516938e-01, 2.02660643e-02,\n",
       "       2.06535743e-02, 1.45453903e-01, 2.30014540e-03, 8.96628200e-04,\n",
       "       2.27899675e-03, 1.14003394e-04, 1.96019158e-04, 1.22667233e-03,\n",
       "       1.82146669e-03, 1.17021304e-03, 3.08973745e-03])"
      ]
     },
     "execution_count": 56,
     "metadata": {},
     "output_type": "execute_result"
    }
   ],
   "source": [
    "rf.feature_importances_"
   ]
  },
  {
   "cell_type": "code",
   "execution_count": 57,
   "metadata": {},
   "outputs": [],
   "source": [
    "coefs = pd.DataFrame( {'Features': list(x.columns),\n",
    "    'Coefficient': list(rf.feature_importances_)}\n",
    ")\n",
    "coefs.sort_values(by='Coefficient', ascending = False, inplace =True)"
   ]
  },
  {
   "cell_type": "code",
   "execution_count": 71,
   "metadata": {
    "scrolled": false
   },
   "outputs": [
    {
     "data": {
      "text/plain": [
       "<AxesSubplot:xlabel='Coefficient', ylabel='Features'>"
      ]
     },
     "execution_count": 71,
     "metadata": {},
     "output_type": "execute_result"
    },
    {
     "data": {
      "image/png": "[encoded data removed]",
      "text/plain": [
       "<Figure size 1008x576 with 1 Axes>"
      ]
     },
     "metadata": {},
     "output_type": "display_data"
    }
   ],
   "source": [
    "sns.set(font_scale = 1.5)\n",
    "plt.figure(figsize=(14,8))\n",
    "sns.barplot(y='Features', x='Coefficient', data=coefs)"
   ]
  },
  {
   "cell_type": "markdown",
   "metadata": {},
   "source": [
    "**Floor area square meter**  is overwhelmingly the strongest predictor, followed by **central region** in 2nd place, then **distance to central** in 3rd. **Remaining lease** is still strong in 4th place."
   ]
  },
  {
   "cell_type": "code",
   "execution_count": null,
   "metadata": {},
   "outputs": [],
   "source": []
  },
  {
   "cell_type": "markdown",
   "metadata": {},
   "source": [
    "### Rerun model with Price per SF "
   ]
  },
  {
   "cell_type": "code",
   "execution_count": null,
   "metadata": {},
   "outputs": [],
   "source": []
  },
  {
   "cell_type": "code",
   "execution_count": null,
   "metadata": {},
   "outputs": [],
   "source": []
  },
  {
   "cell_type": "code",
   "execution_count": null,
   "metadata": {},
   "outputs": [],
   "source": []
  },
  {
   "cell_type": "code",
   "execution_count": null,
   "metadata": {},
   "outputs": [],
   "source": []
  },
  {
   "cell_type": "code",
   "execution_count": null,
   "metadata": {},
   "outputs": [],
   "source": []
  }
 ],
 "metadata": {
  "kernelspec": {
   "display_name": "Python 3",
   "language": "python",
   "name": "python3"
  },
  "language_info": {
   "codemirror_mode": {
    "name": "ipython",
    "version": 3
   },
   "file_extension": ".py",
   "mimetype": "text/x-python",
   "name": "python",
   "nbconvert_exporter": "python",
   "pygments_lexer": "ipython3",
   "version": "3.8.3"
  }
 },
 "nbformat": 4,
 "nbformat_minor": 4
}
